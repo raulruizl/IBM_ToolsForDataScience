{
  "metadata": {
    "kernelspec": {
      "name": "python",
      "display_name": "Pyolite",
      "language": "python"
    },
    "language_info": {
      "codemirror_mode": {
        "name": "python",
        "version": 3
      },
      "file_extension": ".py",
      "mimetype": "text/x-python",
      "name": "python",
      "nbconvert_exporter": "python",
      "pygments_lexer": "ipython3",
      "version": "3.8"
    }
  },
  "nbformat_minor": 4,
  "nbformat": 4,
  "cells": [
    {
      "cell_type": "markdown",
      "source": "<center>\n    <img src=\"https://cf-courses-data.s3.us.cloud-object-storage.appdomain.cloud/IBMDeveloperSkillsNetwork-DS0105EN-SkillsNetwork/labs/Module2/images/SN_web_lightmode.png\" width=\"300\" alt=\"cognitiveclass.ai logo\"  />\n</center>\n",
      "metadata": {}
    },
    {
      "cell_type": "markdown",
      "source": "# My Jupyter Notebook on IBM Warson Studio",
      "metadata": {}
    },
    {
      "cell_type": "markdown",
      "source": "**Raul, Student**",
      "metadata": {}
    },
    {
      "cell_type": "markdown",
      "source": "*I'm interested in data scientist because i think that is going to be the best job in a future and i have a good time analyzing the data and creating machine learning models. Machine learning is a powerful tool that can solve many problems that normal lagic can't do it*",
      "metadata": {}
    },
    {
      "cell_type": "markdown",
      "source": "### The code is going to sum 1 + 1 ",
      "metadata": {}
    },
    {
      "cell_type": "code",
      "source": "1 + 1 ",
      "metadata": {
        "trusted": true
      },
      "execution_count": 1,
      "outputs": [
        {
          "execution_count": 1,
          "output_type": "execute_result",
          "data": {
            "text/plain": "2"
          },
          "metadata": {}
        }
      ]
    },
    {
      "cell_type": "markdown",
      "source": "<ol>\n<li>Fish</li>\n<li>Eggs</li>\n<li>Cheese</li>\n</ol>\n\n<a href=\"https://www.google.com\">Link to Google</a>\n\n<table>\n<tr>\n    <th>Column 1</th>\n    <th>Column 2</th>\n    <th>Column 3</th> \n</tr>\n\n<tr>\n    <td>1</td> \n    <td>2</td> \n    <td>3</td>\n</tr>\n\n<tr>\n    <td>4</td> \n    <td>5</td> \n    <td>6</td>   \n</tr>\n\n</table>",
      "metadata": {}
    },
    {
      "cell_type": "code",
      "source": "",
      "metadata": {},
      "execution_count": null,
      "outputs": []
    }
  ]
}